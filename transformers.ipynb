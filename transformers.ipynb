{
 "cells": [
  {
   "cell_type": "code",
   "execution_count": null,
   "metadata": {},
   "outputs": [],
   "source": [
    "# preprocesing Rafał 4 backgrounf noise i podział na zbiory jak w planie, https://www.kaggle.com/c/tensorflow-speech-recognition-challenge/data Partitioning sekcja\n",
    "# framework 0 Kuba a potem adjustment"
   ]
  }
 ],
 "metadata": {
  "language_info": {
   "name": "python"
  }
 },
 "nbformat": 4,
 "nbformat_minor": 2
}
