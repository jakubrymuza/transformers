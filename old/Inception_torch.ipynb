{
 "cells": [
  {
   "cell_type": "code",
   "execution_count": 1,
   "metadata": {},
   "outputs": [],
   "source": [
    "train_dir = r\"C:\\Users\\rafci\\Desktop\\tensorflow-speech-recognition-challenge\\train\""
   ]
  },
  {
   "cell_type": "code",
   "execution_count": 2,
   "metadata": {},
   "outputs": [],
   "source": [
    "import numpy as np\n",
    "import os"
   ]
  },
  {
   "cell_type": "code",
   "execution_count": 3,
   "metadata": {},
   "outputs": [
    {
     "data": {
      "text/plain": [
       "{0: 'bed',\n",
       " 1: 'bird',\n",
       " 2: 'cat',\n",
       " 3: 'dog',\n",
       " 4: 'down',\n",
       " 5: 'eight',\n",
       " 6: 'five',\n",
       " 7: 'four',\n",
       " 8: 'go',\n",
       " 9: 'happy',\n",
       " 10: 'house',\n",
       " 11: 'left',\n",
       " 12: 'marvin',\n",
       " 13: 'nine',\n",
       " 14: 'no',\n",
       " 15: 'off',\n",
       " 16: 'on',\n",
       " 17: 'one',\n",
       " 18: 'right',\n",
       " 19: 'seven',\n",
       " 20: 'sheila',\n",
       " 21: 'silence',\n",
       " 22: 'six',\n",
       " 23: 'stop',\n",
       " 24: 'three',\n",
       " 25: 'tree',\n",
       " 26: 'two',\n",
       " 27: 'up',\n",
       " 28: 'wow',\n",
       " 29: 'yes',\n",
       " 30: 'zero'}"
      ]
     },
     "execution_count": 3,
     "metadata": {},
     "output_type": "execute_result"
    }
   ],
   "source": [
    "X_train = np.load(\"data/X_train.npy\")\n",
    "y_train = np.load(\"data/y_train.npy\")\n",
    "\n",
    "X_val = np.load(\"data/X_val.npy\")\n",
    "y_val = np.load(\"data/y_val.npy\")\n",
    "\n",
    "X_train = X_train.reshape((-1, X_train.shape[1], X_train.shape[2]))\n",
    "X_val = X_val.reshape((-1, X_val.shape[1], X_val.shape[2]))\n",
    "\n",
    "classes = os.listdir(train_dir+'/audio/')\n",
    "NB_CLASSES = len(classes)\n",
    "classes\n",
    "\n",
    "def convert_list_dict(lst):\n",
    "    res_dct = {i: val for i, val in enumerate(lst)}\n",
    "    return res_dct\n",
    "         \n",
    "classes_index = convert_list_dict(classes)\n",
    "classes_index"
   ]
  },
  {
   "cell_type": "code",
   "execution_count": 4,
   "metadata": {},
   "outputs": [],
   "source": [
    "import torch.nn.functional as F\n",
    "\n",
    "import torch\n",
    "\n",
    "y_train = torch.tensor(y_train).long()\n",
    "y_val = torch.tensor(y_val).long()\n",
    "X_train = torch.tensor(X_train)\n",
    "X_val = torch.tensor(X_val)\n",
    "\n"
   ]
  },
  {
   "cell_type": "code",
   "execution_count": 5,
   "metadata": {},
   "outputs": [
    {
     "name": "stdout",
     "output_type": "stream",
     "text": [
      "tensor([0, 0, 0, 0, 0, 0, 0, 0, 0, 0])\n"
     ]
    }
   ],
   "source": [
    "y_train = F.one_hot(y_train, num_classes=NB_CLASSES)\n",
    "# y_val = F.one_hot(y_val, num_classes=NB_CLASSES)\n",
    "print(y_val[:10])"
   ]
  },
  {
   "cell_type": "code",
   "execution_count": 8,
   "metadata": {},
   "outputs": [],
   "source": [
    "import torch\n",
    "import torch.nn as nn\n",
    "import torch.nn.functional as F\n",
    "import torch.optim as optim\n",
    "from torch.optim.lr_scheduler import ReduceLROnPlateau\n",
    "from torch.utils.data import DataLoader, TensorDataset\n",
    "from torch.utils.data.dataset import random_split\n",
    "import numpy as np\n",
    "import time\n",
    "\n",
    "class InceptionModule(nn.Module):\n",
    "    def __init__(self, in_channels, nb_filters=32, bottleneck_size=32*4, kernel_sizes=41):\n",
    "        super(InceptionModule, self).__init__()\n",
    "        self.bottleneck_size = bottleneck_size\n",
    "        \n",
    "        if bottleneck_size and in_channels > 1:\n",
    "            self.bottleneck = nn.Conv1d(in_channels, bottleneck_size, kernel_size=1, padding='same')\n",
    "        \n",
    "        self.conv_layers = nn.ModuleList()\n",
    "        for kernel_size in kernel_sizes:\n",
    "            self.conv_layers.append(nn.Conv1d(in_channels if not bottleneck_size else bottleneck_size,\n",
    "                                              nb_filters, kernel_size=kernel_size, padding='same'))\n",
    "        \n",
    "        self.max_pool = nn.MaxPool1d(kernel_size=3, stride=1, padding=1)\n",
    "        self.conv_6 = nn.Conv1d(in_channels, nb_filters, kernel_size=1, padding='same')\n",
    "        self.batch_norm = nn.BatchNorm1d(nb_filters * len(kernel_sizes) + nb_filters)\n",
    "        \n",
    "    def forward(self, x):\n",
    "        input_inception = self.bottleneck(x) #if hasattr(self, 'bottleneck') else x\n",
    "        conv_outputs = [conv_layer(input_inception) for conv_layer in self.conv_layers]\n",
    "        x = self.max_pool(x)\n",
    "        x = self.conv_6(x)\n",
    "        conv_outputs.append(x)\n",
    "        \n",
    "        \n",
    "        #[print(x.shape) for x in conv_outputs]\n",
    "        \n",
    "        output = torch.cat(conv_outputs, dim=1)\n",
    "        output = self.batch_norm(output)\n",
    "        output = F.relu(output)\n",
    "        return output\n",
    "\n",
    "class ResidualBlock(nn.Module):\n",
    "    def __init__(self, in_channels, nb_filters):\n",
    "        super(ResidualBlock, self).__init__()\n",
    "        self.conv = nn.Conv1d(in_channels, nb_filters, kernel_size=1)\n",
    "        self.batch_norm = nn.BatchNorm1d(nb_filters)\n",
    "        \n",
    "    def forward(self, x):\n",
    "        shortcut = self.conv(x)\n",
    "        shortcut = self.batch_norm(shortcut)\n",
    "        x = x + shortcut\n",
    "        x = F.relu(x)\n",
    "        return x\n",
    "\n",
    "class ClassifierInception(nn.Module):\n",
    "    def __init__(self, input_shape, nb_classes, nb_filters=32, use_residual=True, use_bottleneck=True,\n",
    "                 depth=10, kernel_size=41, bottleneck_size=32):\n",
    "        super(ClassifierInception, self).__init__()\n",
    "        self.nb_filters = nb_filters\n",
    "        self.use_residual = use_residual\n",
    "        self.use_bottleneck = use_bottleneck\n",
    "        self.depth = depth\n",
    "        self.kernel_size = kernel_size\n",
    "        self.bottleneck_size = bottleneck_size\n",
    "        \n",
    "        self.conv1 = nn.Conv1d(input_shape[0], nb_filters *4, kernel_size=kernel_size, padding=kernel_size//2)\n",
    "        \n",
    "        inception_modules = [InceptionModule(nb_filters * 4, nb_filters, bottleneck_size, [kernel_size // (2 ** i) for i in range(3)]) \n",
    "                             for _ in range(depth)]\n",
    "        self.inception_modules = nn.Sequential(*inception_modules)\n",
    "        \n",
    "        if use_residual:\n",
    "            self.residual_blocks = nn.ModuleList([ResidualBlock(nb_filters * 4, nb_filters * 4) for _ in range(depth // 3)])\n",
    "        \n",
    "        self.global_avg_pool = nn.AdaptiveAvgPool1d(1)\n",
    "        self.fc = nn.Linear(nb_filters * 4, nb_classes)\n",
    "        \n",
    "    def forward(self, x):\n",
    "        x = F.relu(self.conv1(x))\n",
    "        x = self.inception_modules(x)\n",
    "        \n",
    "        if self.use_residual:\n",
    "            for i, block in enumerate(self.residual_blocks):\n",
    "                if i % 3 == 2:\n",
    "                    x = block(x)\n",
    "        \n",
    "        x = self.global_avg_pool(x)\n",
    "        x = torch.flatten(x, 1)\n",
    "        x = self.fc(x)\n",
    "        return x\n",
    "\n",
    "# # Dummy data for demonstration\n",
    "# x_train = torch.randn(284, 85, 122)  # 100 samples, 3 channels, 1000 timesteps\n",
    "# y_train = torch.randint(0, 10, (284,))  # 10 classes\n",
    "# x_val = torch.randn(84, 85, 122)\n",
    "# y_val = torch.randint(0, 10, (84,))\n",
    "\n",
    "# Hyperparameters\n",
    "input_shape = (85, 122)\n",
    "nb_classes = 10\n",
    "nb_filters = 32\n",
    "use_residual = True\n",
    "use_bottleneck = True\n",
    "depth = 10\n",
    "kernel_size = 41\n",
    "bottleneck_size = 32 *4\n",
    "nb_epochs = 10\n",
    "batch_size = 64\n",
    "\n",
    "\n"
   ]
  },
  {
   "cell_type": "code",
   "execution_count": 9,
   "metadata": {},
   "outputs": [
    {
     "name": "stdout",
     "output_type": "stream",
     "text": [
      "torch.Size([58284, 122, 85])\n"
     ]
    }
   ],
   "source": [
    "INPUT_SHAPE = (85, 122)\n",
    "print(X_train.shape)\n",
    "BATCH_SIZE = 64"
   ]
  },
  {
   "cell_type": "code",
   "execution_count": 14,
   "metadata": {},
   "outputs": [
    {
     "name": "stdout",
     "output_type": "stream",
     "text": [
      "torch.Size([6839, 122, 85])\n",
      "torch.Size([58284, 122, 85])\n"
     ]
    },
    {
     "data": {
      "text/plain": [
       "'Inception.pdf'"
      ]
     },
     "execution_count": 14,
     "metadata": {},
     "output_type": "execute_result"
    }
   ],
   "source": [
    "# import torch\n",
    "# from torchviz import make_dot\n",
    "\n",
    "\n",
    "# model = ClassifierInception(INPUT_SHAPE, NB_CLASSES, nb_filters, use_residual, use_bottleneck, depth, kernel_size, bottleneck_size)\n",
    "# print(X_val.shape)\n",
    "# print(X_train.shape)\n",
    "# # Przekazanie przykładowego wejścia przez model, aby uzyskać strukturę grafu\n",
    "# output = model(X_val[[0]].float().transpose(2, 1))\n",
    "\n",
    "\n",
    "\n",
    "# # Generowanie grafu\n",
    "# dot = make_dot(output, params=dict(model.named_parameters()))\n",
    "\n",
    "# model_name = 'Inception'\n",
    "\n",
    "# # Zapis grafu do pliku PNG\n",
    "# dot.render('./{}'.format(model_name))"
   ]
  },
  {
   "cell_type": "code",
   "execution_count": 10,
   "metadata": {},
   "outputs": [
    {
     "name": "stderr",
     "output_type": "stream",
     "text": [
      "c:\\Users\\rafci\\anaconda3\\Lib\\site-packages\\torch\\nn\\modules\\conv.py:306: UserWarning: Plan failed with a cudnnException: CUDNN_BACKEND_EXECUTION_PLAN_DESCRIPTOR: cudnnFinalize Descriptor Failed cudnn_status: CUDNN_STATUS_NOT_SUPPORTED (Triggered internally at ..\\aten\\src\\ATen\\native\\cudnn\\Conv_v8.cpp:919.)\n",
      "  return F.conv1d(input, weight, bias, self.stride,\n",
      "c:\\Users\\rafci\\anaconda3\\Lib\\site-packages\\torch\\nn\\modules\\conv.py:306: UserWarning: Using padding='same' with even kernel lengths and odd dilation may require a zero-padded copy of the input be created (Triggered internally at ..\\aten\\src\\ATen\\native\\Convolution.cpp:1032.)\n",
      "  return F.conv1d(input, weight, bias, self.stride,\n",
      "c:\\Users\\rafci\\anaconda3\\Lib\\site-packages\\torch\\autograd\\graph.py:744: UserWarning: Plan failed with a cudnnException: CUDNN_BACKEND_EXECUTION_PLAN_DESCRIPTOR: cudnnFinalize Descriptor Failed cudnn_status: CUDNN_STATUS_NOT_SUPPORTED (Triggered internally at ..\\aten\\src\\ATen\\native\\cudnn\\Conv_v8.cpp:919.)\n",
      "  return Variable._execution_engine.run_backward(  # Calls into the C++ engine to run the backward pass\n"
     ]
    },
    {
     "name": "stdout",
     "output_type": "stream",
     "text": [
      "Epoch [1/10], Validation Accuracy: 0.7932\n",
      "Epoch [2/10], Validation Accuracy: 0.8557\n",
      "Epoch [3/10], Validation Accuracy: 0.8639\n",
      "Epoch [4/10], Validation Accuracy: 0.8862\n",
      "Epoch [5/10], Validation Accuracy: 0.9063\n",
      "Epoch [6/10], Validation Accuracy: 0.9108\n",
      "Epoch [7/10], Validation Accuracy: 0.9212\n",
      "Epoch [8/10], Validation Accuracy: 0.9210\n",
      "Epoch [9/10], Validation Accuracy: 0.9316\n",
      "Epoch [10/10], Validation Accuracy: 0.9259\n",
      "Training finished.\n"
     ]
    }
   ],
   "source": [
    "# Model, criterion, optimizer\n",
    "model = ClassifierInception(INPUT_SHAPE, NB_CLASSES, nb_filters, use_residual, use_bottleneck, depth, kernel_size, bottleneck_size).to('cuda')\n",
    "criterion = nn.CrossEntropyLoss()\n",
    "optimizer = optim.Adam(model.parameters())\n",
    "\n",
    "# Data loaders\n",
    "train_dataset = TensorDataset(X_train.float().transpose(2, 1).to('cuda'), y_train.float().to('cuda'))\n",
    "train_loader = DataLoader(train_dataset, batch_size=batch_size, shuffle=True)\n",
    "val_dataset = TensorDataset(X_val.float().transpose(2, 1).to('cuda'), y_val.float().to('cuda'))\n",
    "val_loader = DataLoader(val_dataset, batch_size=batch_size, shuffle=False)\n",
    "\n",
    "# Training loop\n",
    "for epoch in range(nb_epochs):\n",
    "    model.train()\n",
    "    for inputs, labels in train_loader:\n",
    "        optimizer.zero_grad()\n",
    "        outputs = model(inputs)\n",
    "        loss = criterion(outputs, labels)\n",
    "        loss.backward()\n",
    "        optimizer.step()\n",
    "    \n",
    "    model.eval()\n",
    "    with torch.no_grad():\n",
    "        total_correct = 0\n",
    "        total_samples = 0\n",
    "        for inputs, labels in val_loader:\n",
    "            outputs = model(inputs)\n",
    "            _, predicted = torch.max(outputs, 1)\n",
    "            # _, labels = torch.max(labels, 1)\n",
    "            \n",
    "            total_correct += (predicted == labels).sum().item()\n",
    "            total_samples += labels.size(0)\n",
    "        \n",
    "        accuracy = total_correct / total_samples\n",
    "        print(f'Epoch [{epoch+1}/{nb_epochs}], Validation Accuracy: {accuracy:.4f}')\n",
    "\n",
    "print(\"Training finished.\")"
   ]
  },
  {
   "cell_type": "code",
   "execution_count": 1,
   "metadata": {},
   "outputs": [
    {
     "ename": "NameError",
     "evalue": "name 'ClassifierInception' is not defined",
     "output_type": "error",
     "traceback": [
      "\u001b[1;31m---------------------------------------------------------------------------\u001b[0m",
      "\u001b[1;31mNameError\u001b[0m                                 Traceback (most recent call last)",
      "Cell \u001b[1;32mIn[1], line 2\u001b[0m\n\u001b[0;32m      1\u001b[0m \u001b[38;5;66;03m# Model, criterion, optimizer\u001b[39;00m\n\u001b[1;32m----> 2\u001b[0m model \u001b[38;5;241m=\u001b[39m ClassifierInception(INPUT_SHAPE, NB_CLASSES, nb_filters, use_residual, use_bottleneck, depth, kernel_size, bottleneck_size)\u001b[38;5;241m.\u001b[39mto(\u001b[38;5;124m'\u001b[39m\u001b[38;5;124mcuda\u001b[39m\u001b[38;5;124m'\u001b[39m)\n\u001b[0;32m      3\u001b[0m criterion \u001b[38;5;241m=\u001b[39m nn\u001b[38;5;241m.\u001b[39mCrossEntropyLoss()\n\u001b[0;32m      4\u001b[0m optimizer \u001b[38;5;241m=\u001b[39m optim\u001b[38;5;241m.\u001b[39mAdam(model\u001b[38;5;241m.\u001b[39mparameters(),lr\u001b[38;5;241m=\u001b[39m\u001b[38;5;241m0.001\u001b[39m)\n",
      "\u001b[1;31mNameError\u001b[0m: name 'ClassifierInception' is not defined"
     ]
    }
   ],
   "source": [
    "# Model, criterion, optimizer\n",
    "model = ClassifierInception(INPUT_SHAPE, NB_CLASSES, nb_filters, use_residual, use_bottleneck, depth, kernel_size, bottleneck_size).to('cuda')\n",
    "criterion = nn.CrossEntropyLoss()\n",
    "optimizer = optim.Adam(model.parameters(),lr=0.0005)\n",
    "\n",
    "# Data loaders\n",
    "train_dataset = TensorDataset(X_train.float().transpose(2, 1).to('cuda'), y_train.float().to('cuda'))\n",
    "train_loader = DataLoader(train_dataset, batch_size=batch_size, shuffle=True)\n",
    "val_dataset = TensorDataset(X_val.float().transpose(2, 1).to('cuda'), y_val.float().to('cuda'))\n",
    "val_loader = DataLoader(val_dataset, batch_size=batch_size, shuffle=False)\n",
    "\n",
    "# Training loop\n",
    "for epoch in range(nb_epochs):\n",
    "    model.train()\n",
    "    for inputs, labels in train_loader:\n",
    "        optimizer.zero_grad()\n",
    "        outputs = model(inputs)\n",
    "        loss = criterion(outputs, labels)\n",
    "        loss.backward()\n",
    "        optimizer.step()\n",
    "    \n",
    "    model.eval()\n",
    "    with torch.no_grad():\n",
    "        total_correct = 0\n",
    "        total_samples = 0\n",
    "        for inputs, labels in val_loader:\n",
    "            outputs = model(inputs)\n",
    "            _, predicted = torch.max(outputs, 1)\n",
    "            # _, labels = torch.max(labels, 1)\n",
    "            \n",
    "            total_correct += (predicted == labels).sum().item()\n",
    "            total_samples += labels.size(0)\n",
    "        \n",
    "        accuracy = total_correct / total_samples\n",
    "        print(f'Epoch [{epoch+1}/{nb_epochs}], Validation Accuracy: {accuracy:.4f}')\n",
    "\n",
    "print(\"Training finished.\")"
   ]
  }
 ],
 "metadata": {
  "kernelspec": {
   "display_name": "base",
   "language": "python",
   "name": "python3"
  },
  "language_info": {
   "codemirror_mode": {
    "name": "ipython",
    "version": 3
   },
   "file_extension": ".py",
   "mimetype": "text/x-python",
   "name": "python",
   "nbconvert_exporter": "python",
   "pygments_lexer": "ipython3",
   "version": "3.11.7"
  }
 },
 "nbformat": 4,
 "nbformat_minor": 2
}
